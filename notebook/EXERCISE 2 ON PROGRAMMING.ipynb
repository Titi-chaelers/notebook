{
 "cells": [
  {
   "cell_type": "code",
   "execution_count": 2,
   "id": "a604ed90",
   "metadata": {},
   "outputs": [
    {
     "name": "stdout",
     "output_type": "stream",
     "text": [
      "[0, 'one', 'two', 3, 4, 5]\n"
     ]
    }
   ],
   "source": [
    "a_list = [0, 'one', 'two',3,4,5]\n",
    "print(a_list)"
   ]
  },
  {
   "cell_type": "code",
   "execution_count": 3,
   "id": "f57ad7ac",
   "metadata": {},
   "outputs": [
    {
     "name": "stdout",
     "output_type": "stream",
     "text": [
      "[0, 'one', 'two', 3, 4, 5, 6]\n"
     ]
    }
   ],
   "source": [
    "a_list.append(6)\n",
    "print(a_list)"
   ]
  },
  {
   "cell_type": "code",
   "execution_count": 11,
   "id": "c4729d8c",
   "metadata": {},
   "outputs": [
    {
     "name": "stdout",
     "output_type": "stream",
     "text": [
      "['-1', 0, 'one', 'two', 3, 4, 5, 6]\n"
     ]
    }
   ],
   "source": [
    "a_list = [0, 'one', 'two',3,4,5,6]\n",
    "a_list.insert(0, '-1')\n",
    "print(a_list)"
   ]
  },
  {
   "cell_type": "code",
   "execution_count": 4,
   "id": "ab7e0aea",
   "metadata": {},
   "outputs": [
    {
     "name": "stdout",
     "output_type": "stream",
     "text": [
      "[1, 'two', 3, 4, 5, 6, '-1']\n",
      "[1, 2, 3, 4, 5, 6, '-1']\n"
     ]
    }
   ],
   "source": [
    "a_list = ['one', 'two',3,4,5,6,'-1']\n",
    "a_list[0] = 1\n",
    "print(a_list)\n",
    "a_list[1] = 2\n",
    "print(a_list)"
   ]
  },
  {
   "cell_type": "code",
   "execution_count": 13,
   "id": "5bbd8377",
   "metadata": {},
   "outputs": [
    {
     "name": "stdout",
     "output_type": "stream",
     "text": [
      "7\n"
     ]
    }
   ],
   "source": [
    "list1 = [1,2,3,4,5,6, \"-1\"];s=0\n",
    "for i,a in enumerate(list1):\n",
    "  s+=1\n",
    "print(s)"
   ]
  },
  {
   "cell_type": "code",
   "execution_count": 18,
   "id": "0ff8186c",
   "metadata": {},
   "outputs": [
    {
     "name": "stdout",
     "output_type": "stream",
     "text": [
      "('-1', 1, 2, 3, 4, 5, 6, 7, 8, 9, '-2', '-3')\n"
     ]
    }
   ],
   "source": [
    "first_list = ('-1',1,2,3,4,5,6)\n",
    "second_list = (7,8,9, '-2', '-3')\n",
    "combined_list = first_list + second_list\n",
    "print(combined_list)\n"
   ]
  },
  {
   "cell_type": "code",
   "execution_count": 28,
   "id": "ccb78aab",
   "metadata": {},
   "outputs": [
    {
     "name": "stdout",
     "output_type": "stream",
     "text": [
      "['-1', '-2', '-3', '1', '2', '3', '4', '5', '6', '7', '8', '9']\n"
     ]
    }
   ],
   "source": [
    "sample_list = ['3','5','1','7', '-2','8','9', '-1','4','6', '-3','2']\n",
    "sample_list.sort()\n",
    "print(sample_list)"
   ]
  },
  {
   "cell_type": "code",
   "execution_count": 32,
   "id": "d839ccc7",
   "metadata": {},
   "outputs": [
    {
     "name": "stdout",
     "output_type": "stream",
     "text": [
      "['9', '8', '7', '6', '5', '4', '3', '2', '1', '-3', '-2', '-1']\n"
     ]
    }
   ],
   "source": [
    "sample_list.reverse()\n",
    "print(sample_list)"
   ]
  },
  {
   "cell_type": "code",
   "execution_count": null,
   "id": "1499529f",
   "metadata": {},
   "outputs": [],
   "source": []
  }
 ],
 "metadata": {
  "kernelspec": {
   "display_name": "Python 3 (ipykernel)",
   "language": "python",
   "name": "python3"
  },
  "language_info": {
   "codemirror_mode": {
    "name": "ipython",
    "version": 3
   },
   "file_extension": ".py",
   "mimetype": "text/x-python",
   "name": "python",
   "nbconvert_exporter": "python",
   "pygments_lexer": "ipython3",
   "version": "3.9.13"
  }
 },
 "nbformat": 4,
 "nbformat_minor": 5
}
